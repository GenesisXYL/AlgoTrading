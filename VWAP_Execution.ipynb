{
 "cells": [
  {
   "cell_type": "markdown",
   "metadata": {},
   "source": [
    "# VWAP - Tick Forecast"
   ]
  },
  {
   "cell_type": "markdown",
   "metadata": {},
   "source": [
    "# Debug: update quantity_behind after placing order aggressively\n",
    "Set tick factor coefficient to 1. Add some logs to the algo_loop, we find that at bar $9$, after placing order aggressively, the quantity_behind will not update, which causes the endless aggressive trading until the total shares are sold out. Thus, we add a line to update the quantity_behind to eliminate the bug.\n",
    "\n",
    "During the class, professor set the tick factor to 0 and displayed that it would perfectly follow the VWAP. The reason is if we ignore the tick factor, we will never place order aggressively in our loop (the fair value is always above bid_price), given the specific TSLA TAQ data set.\n",
    "# Exact number of shares traded\n",
    "After fixing bug, the total shares traded is slightly less than our target $30000$. The reason is at the last bar we trade passively, and our orders are not guaranteed to be fufilled. In order to finish all the orders, at the last bar, we force it to trade aggressively, which achieve our target more precisely but slightly increase the trading cost.\n",
    "\n",
    "Another thing that prevents us from trading exact $30000$ shares is that we can only trade mutiple of 100 shares when trading aggressively (round_lot=100). We can not change this because it's determined by the exchange. "
   ]
  },
  {
   "cell_type": "code",
   "execution_count": 2,
   "metadata": {},
   "outputs": [],
   "source": [
    "%matplotlib inline\n",
    "%load_ext autoreload\n",
    "%autoreload 2\n",
    "\n",
    "import matplotlib\n",
    "import matplotlib.pyplot as plt\n",
    "import numpy as np\n",
    "import pandas as pd\n",
    "\n",
    "# load our helper functios\n",
    "import simtools as st\n",
    "import vwap2 as vw\n",
    "\n",
    "matplotlib.rcParams[ 'figure.figsize' ] = ( 16, 9 )"
   ]
  },
  {
   "cell_type": "code",
   "execution_count": 3,
   "metadata": {
    "collapsed": true
   },
   "outputs": [],
   "source": [
    "vwap_coefs = [ 9.95503275e-03, -1.01533564e-04,  5.73879785e-07, -1.47027197e-09, 1.38993793e-12]"
   ]
  },
  {
   "cell_type": "code",
   "execution_count": 7,
   "metadata": {},
   "outputs": [],
   "source": [
    "# set up some variables\n",
    "tickfile = 'TSLA-TAQ-jan20.zip'\n",
    "test_day = '2020-01-15'\n",
    "taq = pd.read_pickle(tickfile)\n",
    "# filter on date\n",
    "day = taq[test_day]"
   ]
  },
  {
   "cell_type": "markdown",
   "metadata": {},
   "source": [
    "The TAQ data contain time range 2020/01/15 - 2020/01/17. Above we just test the day 2020/01/15."
   ]
  },
  {
   "cell_type": "code",
   "execution_count": 6,
   "metadata": {},
   "outputs": [
    {
     "ename": "NameError",
     "evalue": "name 'day' is not defined",
     "output_type": "error",
     "traceback": [
      "\u001b[0;31m---------------------------------------------------------------------------\u001b[0m",
      "\u001b[0;31mNameError\u001b[0m                                 Traceback (most recent call last)",
      "\u001b[0;32m<ipython-input-6-e9807f927e44>\u001b[0m in \u001b[0;36m<module>\u001b[0;34m()\u001b[0m\n\u001b[1;32m      2\u001b[0m \u001b[0morder_quantity\u001b[0m \u001b[0;34m=\u001b[0m \u001b[0;36m300000\u001b[0m\u001b[0;34m\u001b[0m\u001b[0;34m\u001b[0m\u001b[0m\n\u001b[1;32m      3\u001b[0m \u001b[0morder_side\u001b[0m \u001b[0;34m=\u001b[0m \u001b[0;34m's'\u001b[0m\u001b[0;34m\u001b[0m\u001b[0;34m\u001b[0m\u001b[0m\n\u001b[0;32m----> 4\u001b[0;31m \u001b[0mresults\u001b[0m \u001b[0;34m=\u001b[0m \u001b[0mvw\u001b[0m\u001b[0;34m.\u001b[0m\u001b[0malgo_loop\u001b[0m\u001b[0;34m(\u001b[0m\u001b[0mday\u001b[0m\u001b[0;34m,\u001b[0m \u001b[0morder_side\u001b[0m\u001b[0;34m,\u001b[0m \u001b[0morder_quantity\u001b[0m\u001b[0;34m,\u001b[0m \u001b[0mvwap_coefs\u001b[0m\u001b[0;34m,\u001b[0m \u001b[0;34m)\u001b[0m\u001b[0;34m\u001b[0m\u001b[0;34m\u001b[0m\u001b[0m\n\u001b[0m",
      "\u001b[0;31mNameError\u001b[0m: name 'day' is not defined"
     ]
    }
   ],
   "source": [
    "# without the tick signal...\n",
    "order_quantity = 300000\n",
    "order_side = 's'\n",
    "results = vw.algo_loop(day, order_side, order_quantity, vwap_coefs, )"
   ]
  },
  {
   "cell_type": "code",
   "execution_count": null,
   "metadata": {
    "collapsed": true
   },
   "outputs": [],
   "source": [
    "results['fair_values'].plot()"
   ]
  },
  {
   "cell_type": "code",
   "execution_count": null,
   "metadata": {
    "collapsed": true
   },
   "outputs": [],
   "source": [
    "results['midpoints'].plot()\n",
    "day.trade_px.plot()"
   ]
  },
  {
   "cell_type": "code",
   "execution_count": null,
   "metadata": {
    "collapsed": true
   },
   "outputs": [],
   "source": [
    "data = results['trades']"
   ]
  },
  {
   "cell_type": "code",
   "execution_count": null,
   "metadata": {
    "collapsed": true
   },
   "outputs": [],
   "source": [
    "data.price.plot()"
   ]
  },
  {
   "cell_type": "code",
   "execution_count": null,
   "metadata": {
    "collapsed": true
   },
   "outputs": [],
   "source": [
    "data['shares'].sum()"
   ]
  },
  {
   "cell_type": "code",
   "execution_count": null,
   "metadata": {
    "collapsed": true
   },
   "outputs": [],
   "source": [
    "results.keys()"
   ]
  },
  {
   "cell_type": "code",
   "execution_count": null,
   "metadata": {
    "collapsed": true
   },
   "outputs": [],
   "source": [
    "results['day_vwap']"
   ]
  },
  {
   "cell_type": "code",
   "execution_count": null,
   "metadata": {
    "collapsed": true
   },
   "outputs": [],
   "source": [
    "results['avg_price']"
   ]
  },
  {
   "cell_type": "code",
   "execution_count": null,
   "metadata": {
    "collapsed": true
   },
   "outputs": [],
   "source": [
    "#slippage vs. vwap\n",
    "results['day_vwap'] - results['avg_price']"
   ]
  },
  {
   "cell_type": "code",
   "execution_count": null,
   "metadata": {
    "collapsed": true
   },
   "outputs": [],
   "source": [
    "results['trades'].groupby(['trade_type']).count()"
   ]
  },
  {
   "cell_type": "code",
   "execution_count": null,
   "metadata": {
    "collapsed": true
   },
   "outputs": [],
   "source": [
    "results['trades']"
   ]
  },
  {
   "cell_type": "code",
   "execution_count": null,
   "metadata": {
    "collapsed": true
   },
   "outputs": [],
   "source": [
    "[print(results['schedule_factors'][i]) for i in range(results['schedule_factors'].shape[0])]"
   ]
  },
  {
   "cell_type": "markdown",
   "metadata": {},
   "source": [
    "## Pick the best Schedule"
   ]
  },
  {
   "cell_type": "code",
   "execution_count": null,
   "metadata": {},
   "outputs": [
    {
     "name": "stdout",
     "output_type": "stream",
     "text": [
      "2020-03-18 18:41:44:292661: Beginning VWAP run: s 300000 shares\n",
      "Average stock spread for sample: 3.1896\n",
      "2020-03-18 18:41:44:473644: starting main loop\n",
      "2020-03-18 18:45:58:797290: end simulation loop\n",
      "2020-03-18 18:45:58:797422: order analytics\n",
      "2020-03-18 18:45:58:898675: VWAP run complete.\n",
      "-0.7068836452822325\n",
      "            price  shares   bar\n",
      "trade_type                     \n",
      "a             154     154   154\n",
      "p            2979    2979  2979\n",
      "2020-03-18 18:45:58:993113: Beginning VWAP run: s 300000 shares\n",
      "Average stock spread for sample: 3.1896\n",
      "2020-03-18 18:45:59:176789: starting main loop\n",
      "2020-03-18 18:50:13:723528: end simulation loop\n",
      "2020-03-18 18:50:13:723626: order analytics\n",
      "2020-03-18 18:50:13:818483: VWAP run complete.\n",
      "-0.7137884154356016\n",
      "            price  shares   bar\n",
      "trade_type                     \n",
      "a             139     139   139\n",
      "p            3218    3218  3218\n",
      "2020-03-18 18:50:13:931448: Beginning VWAP run: s 300000 shares\n",
      "Average stock spread for sample: 3.1896\n",
      "2020-03-18 18:50:14:119687: starting main loop\n",
      "2020-03-18 18:54:40:581011: end simulation loop\n",
      "2020-03-18 18:54:40:581108: order analytics\n",
      "2020-03-18 18:54:40:685594: VWAP run complete.\n",
      "-0.7154828165112121\n",
      "            price  shares   bar\n",
      "trade_type                     \n",
      "a             133     133   133\n",
      "p            3350    3350  3350\n",
      "2020-03-18 18:54:40:795649: Beginning VWAP run: s 300000 shares\n",
      "Average stock spread for sample: 3.1896\n",
      "2020-03-18 18:54:40:989046: starting main loop\n",
      "2020-03-18 18:59:07:423791: end simulation loop\n",
      "2020-03-18 18:59:07:423893: order analytics\n",
      "2020-03-18 18:59:07:526494: VWAP run complete.\n",
      "-0.716943405804841\n",
      "            price  shares   bar\n",
      "trade_type                     \n",
      "a             121     121   121\n",
      "p            3547    3547  3547\n",
      "2020-03-18 18:59:07:631706: Beginning VWAP run: s 300000 shares\n",
      "Average stock spread for sample: 3.1896\n",
      "2020-03-18 18:59:07:821575: starting main loop\n"
     ]
    }
   ],
   "source": [
    "scheduel_coefs = np.linspace(0.01, 0.1, 20)[::-1]\n",
    "if order_side == 's':\n",
    "    scheduel_coefs = -scheduel_coefs\n",
    "for i, schedule_coef in enumerate(scheduel_coefs):\n",
    "    results = vw.algo_loop(day, order_side, order_quantity, vwap_coefs, schedule_coef)\n",
    "    print(results['day_vwap'] - results['avg_price'])\n",
    "    print(results['trades'].groupby(['trade_type']).count())"
   ]
  },
  {
   "cell_type": "code",
   "execution_count": 70,
   "metadata": {},
   "outputs": [
    {
     "name": "stdout",
     "output_type": "stream",
     "text": [
      "            price  shares   bar\n",
      "trade_type                     \n",
      "a             154     154   154\n",
      "p            2979    2979  2979\n"
     ]
    }
   ],
   "source": []
  },
  {
   "cell_type": "markdown",
   "metadata": {
    "collapsed": true
   },
   "source": [
    "## pick the best tick"
   ]
  },
  {
   "cell_type": "code",
   "execution_count": 9,
   "metadata": {},
   "outputs": [
    {
     "name": "stdout",
     "output_type": "stream",
     "text": [
      "2020-03-18 21:40:29:766466: Beginning VWAP run: s 300000 shares\n",
      "2020-03-18 21:40:29:766695: schedule_coef: 0.08, tick_coef: -1.0\n",
      "Average stock spread for sample: 3.1896\n",
      "2020-03-18 21:40:30:030696: starting main loop\n",
      "2020-03-18 21:43:51:924275: end simulation loop\n",
      "2020-03-18 21:43:51:924373: order analytics\n",
      "2020-03-18 21:43:52:033629: VWAP run complete.\n",
      "-0.5903547860291383\n",
      "            price  shares  bar\n",
      "trade_type                    \n",
      "a             376     376  376\n",
      "p             304     304  304\n",
      "2020-03-18 21:43:52:153125: Beginning VWAP run: s 300000 shares\n",
      "2020-03-18 21:43:52:153187: schedule_coef: 0.08, tick_coef: -0.9478947368421053\n",
      "Average stock spread for sample: 3.1896\n",
      "2020-03-18 21:43:52:351705: starting main loop\n"
     ]
    },
    {
     "ename": "KeyboardInterrupt",
     "evalue": "",
     "output_type": "error",
     "traceback": [
      "\u001b[0;31m---------------------------------------------------------------------------\u001b[0m",
      "\u001b[0;31mKeyboardInterrupt\u001b[0m                         Traceback (most recent call last)",
      "\u001b[0;32m<ipython-input-9-9ab1819c0cff>\u001b[0m in \u001b[0;36m<module>\u001b[0;34m()\u001b[0m\n\u001b[1;32m      4\u001b[0m     \u001b[0mtick_coefs\u001b[0m \u001b[0;34m=\u001b[0m \u001b[0;34m-\u001b[0m\u001b[0mtick_coefs\u001b[0m\u001b[0;34m\u001b[0m\u001b[0;34m\u001b[0m\u001b[0m\n\u001b[1;32m      5\u001b[0m \u001b[0;32mfor\u001b[0m \u001b[0mi\u001b[0m\u001b[0;34m,\u001b[0m \u001b[0mtick_coef\u001b[0m \u001b[0;32min\u001b[0m \u001b[0menumerate\u001b[0m\u001b[0;34m(\u001b[0m\u001b[0mtick_coefs\u001b[0m\u001b[0;34m)\u001b[0m\u001b[0;34m:\u001b[0m\u001b[0;34m\u001b[0m\u001b[0;34m\u001b[0m\u001b[0m\n\u001b[0;32m----> 6\u001b[0;31m     \u001b[0mresults\u001b[0m \u001b[0;34m=\u001b[0m \u001b[0mvw\u001b[0m\u001b[0;34m.\u001b[0m\u001b[0malgo_loop\u001b[0m\u001b[0;34m(\u001b[0m\u001b[0mday\u001b[0m\u001b[0;34m,\u001b[0m \u001b[0morder_side\u001b[0m\u001b[0;34m,\u001b[0m \u001b[0morder_quantity\u001b[0m\u001b[0;34m,\u001b[0m \u001b[0mvwap_coefs\u001b[0m\u001b[0;34m,\u001b[0m \u001b[0mschedule_coef\u001b[0m\u001b[0;34m,\u001b[0m \u001b[0mtick_coef\u001b[0m\u001b[0;34m)\u001b[0m\u001b[0;34m\u001b[0m\u001b[0;34m\u001b[0m\u001b[0m\n\u001b[0m\u001b[1;32m      7\u001b[0m     \u001b[0mprint\u001b[0m\u001b[0;34m(\u001b[0m\u001b[0mresults\u001b[0m\u001b[0;34m[\u001b[0m\u001b[0;34m'day_vwap'\u001b[0m\u001b[0;34m]\u001b[0m \u001b[0;34m-\u001b[0m \u001b[0mresults\u001b[0m\u001b[0;34m[\u001b[0m\u001b[0;34m'avg_price'\u001b[0m\u001b[0;34m]\u001b[0m\u001b[0;34m)\u001b[0m\u001b[0;34m\u001b[0m\u001b[0;34m\u001b[0m\u001b[0m\n\u001b[1;32m      8\u001b[0m     \u001b[0mprint\u001b[0m\u001b[0;34m(\u001b[0m\u001b[0mresults\u001b[0m\u001b[0;34m[\u001b[0m\u001b[0;34m'trades'\u001b[0m\u001b[0;34m]\u001b[0m\u001b[0;34m.\u001b[0m\u001b[0mgroupby\u001b[0m\u001b[0;34m(\u001b[0m\u001b[0;34m[\u001b[0m\u001b[0;34m'trade_type'\u001b[0m\u001b[0;34m]\u001b[0m\u001b[0;34m)\u001b[0m\u001b[0;34m.\u001b[0m\u001b[0mcount\u001b[0m\u001b[0;34m(\u001b[0m\u001b[0;34m)\u001b[0m\u001b[0;34m)\u001b[0m\u001b[0;34m\u001b[0m\u001b[0;34m\u001b[0m\u001b[0m\n",
      "\u001b[0;32m~/Library/Mobile Documents/com~apple~CloudDocs/Desktop/columbia/courses/m2/4729 algo trading/hw/Algo_trading_HW2/vwap2.py\u001b[0m in \u001b[0;36malgo_loop\u001b[0;34m(trading_day, order_side, original_order_quantity, vwap_coefficients, schedule_coef, tick_coef)\u001b[0m\n\u001b[1;32m    163\u001b[0m             \u001b[0;31m# now get the new data\u001b[0m\u001b[0;34m\u001b[0m\u001b[0;34m\u001b[0m\u001b[0;34m\u001b[0m\u001b[0m\n\u001b[1;32m    164\u001b[0m             \u001b[0mlast_price\u001b[0m \u001b[0;34m=\u001b[0m \u001b[0mrow\u001b[0m\u001b[0;34m.\u001b[0m\u001b[0mtrade_px\u001b[0m\u001b[0;34m\u001b[0m\u001b[0;34m\u001b[0m\u001b[0m\n\u001b[0;32m--> 165\u001b[0;31m             \u001b[0mlast_size\u001b[0m \u001b[0;34m=\u001b[0m \u001b[0mrow\u001b[0m\u001b[0;34m.\u001b[0m\u001b[0mtrade_size\u001b[0m\u001b[0;34m\u001b[0m\u001b[0;34m\u001b[0m\u001b[0m\n\u001b[0m\u001b[1;32m    166\u001b[0m             \u001b[0mtrade_count\u001b[0m \u001b[0;34m+=\u001b[0m \u001b[0;36m1\u001b[0m\u001b[0;34m\u001b[0m\u001b[0;34m\u001b[0m\u001b[0m\n\u001b[1;32m    167\u001b[0m             \u001b[0mcumulative_volume\u001b[0m \u001b[0;34m+=\u001b[0m \u001b[0mrow\u001b[0m\u001b[0;34m.\u001b[0m\u001b[0mtrade_size\u001b[0m\u001b[0;34m\u001b[0m\u001b[0;34m\u001b[0m\u001b[0m\n",
      "\u001b[0;32m~/anaconda3/envs/py36/lib/python3.6/site-packages/pandas/core/generic.py\u001b[0m in \u001b[0;36m__getattr__\u001b[0;34m(self, name)\u001b[0m\n\u001b[1;32m   5176\u001b[0m         \u001b[0;32melse\u001b[0m\u001b[0;34m:\u001b[0m\u001b[0;34m\u001b[0m\u001b[0;34m\u001b[0m\u001b[0m\n\u001b[1;32m   5177\u001b[0m             \u001b[0;32mif\u001b[0m \u001b[0mself\u001b[0m\u001b[0;34m.\u001b[0m\u001b[0m_info_axis\u001b[0m\u001b[0;34m.\u001b[0m\u001b[0m_can_hold_identifiers_and_holds_name\u001b[0m\u001b[0;34m(\u001b[0m\u001b[0mname\u001b[0m\u001b[0;34m)\u001b[0m\u001b[0;34m:\u001b[0m\u001b[0;34m\u001b[0m\u001b[0;34m\u001b[0m\u001b[0m\n\u001b[0;32m-> 5178\u001b[0;31m                 \u001b[0;32mreturn\u001b[0m \u001b[0mself\u001b[0m\u001b[0;34m[\u001b[0m\u001b[0mname\u001b[0m\u001b[0;34m]\u001b[0m\u001b[0;34m\u001b[0m\u001b[0;34m\u001b[0m\u001b[0m\n\u001b[0m\u001b[1;32m   5179\u001b[0m             \u001b[0;32mreturn\u001b[0m \u001b[0mobject\u001b[0m\u001b[0;34m.\u001b[0m\u001b[0m__getattribute__\u001b[0m\u001b[0;34m(\u001b[0m\u001b[0mself\u001b[0m\u001b[0;34m,\u001b[0m \u001b[0mname\u001b[0m\u001b[0;34m)\u001b[0m\u001b[0;34m\u001b[0m\u001b[0;34m\u001b[0m\u001b[0m\n\u001b[1;32m   5180\u001b[0m \u001b[0;34m\u001b[0m\u001b[0m\n",
      "\u001b[0;32m~/anaconda3/envs/py36/lib/python3.6/site-packages/pandas/core/series.py\u001b[0m in \u001b[0;36m__getitem__\u001b[0;34m(self, key)\u001b[0m\n\u001b[1;32m   1066\u001b[0m         \u001b[0mkey\u001b[0m \u001b[0;34m=\u001b[0m \u001b[0mcom\u001b[0m\u001b[0;34m.\u001b[0m\u001b[0mapply_if_callable\u001b[0m\u001b[0;34m(\u001b[0m\u001b[0mkey\u001b[0m\u001b[0;34m,\u001b[0m \u001b[0mself\u001b[0m\u001b[0;34m)\u001b[0m\u001b[0;34m\u001b[0m\u001b[0;34m\u001b[0m\u001b[0m\n\u001b[1;32m   1067\u001b[0m         \u001b[0;32mtry\u001b[0m\u001b[0;34m:\u001b[0m\u001b[0;34m\u001b[0m\u001b[0;34m\u001b[0m\u001b[0m\n\u001b[0;32m-> 1068\u001b[0;31m             \u001b[0mresult\u001b[0m \u001b[0;34m=\u001b[0m \u001b[0mself\u001b[0m\u001b[0;34m.\u001b[0m\u001b[0mindex\u001b[0m\u001b[0;34m.\u001b[0m\u001b[0mget_value\u001b[0m\u001b[0;34m(\u001b[0m\u001b[0mself\u001b[0m\u001b[0;34m,\u001b[0m \u001b[0mkey\u001b[0m\u001b[0;34m)\u001b[0m\u001b[0;34m\u001b[0m\u001b[0;34m\u001b[0m\u001b[0m\n\u001b[0m\u001b[1;32m   1069\u001b[0m \u001b[0;34m\u001b[0m\u001b[0m\n\u001b[1;32m   1070\u001b[0m             \u001b[0;32mif\u001b[0m \u001b[0;32mnot\u001b[0m \u001b[0mis_scalar\u001b[0m\u001b[0;34m(\u001b[0m\u001b[0mresult\u001b[0m\u001b[0;34m)\u001b[0m\u001b[0;34m:\u001b[0m\u001b[0;34m\u001b[0m\u001b[0;34m\u001b[0m\u001b[0m\n",
      "\u001b[0;31mKeyboardInterrupt\u001b[0m: "
     ]
    }
   ],
   "source": [
    "schedule_coef = 0.08\n",
    "tick_coefs = np.linspace(0.01, 1, 20)[::-1]\n",
    "if order_side == 's':\n",
    "    tick_coefs = -tick_coefs\n",
    "for i, tick_coef in enumerate(tick_coefs):\n",
    "    results = vw.algo_loop(day, order_side, order_quantity, vwap_coefs, schedule_coef, tick_coef)\n",
    "    print(results['day_vwap'] - results['avg_price'])\n",
    "    print(results['trades'].groupby(['trade_type']).count())"
   ]
  },
  {
   "cell_type": "code",
   "execution_count": null,
   "metadata": {
    "collapsed": true
   },
   "outputs": [],
   "source": []
  }
 ],
 "metadata": {
  "kernelspec": {
   "display_name": "Python 3",
   "language": "python",
   "name": "python3"
  },
  "language_info": {
   "codemirror_mode": {
    "name": "ipython",
    "version": 3
   },
   "file_extension": ".py",
   "mimetype": "text/x-python",
   "name": "python",
   "nbconvert_exporter": "python",
   "pygments_lexer": "ipython3",
   "version": "3.6.9"
  },
  "toc": {
   "base_numbering": 1,
   "nav_menu": {},
   "number_sections": true,
   "sideBar": true,
   "skip_h1_title": false,
   "title_cell": "Table of Contents",
   "title_sidebar": "Contents",
   "toc_cell": false,
   "toc_position": {},
   "toc_section_display": true,
   "toc_window_display": true
  }
 },
 "nbformat": 4,
 "nbformat_minor": 2
}
